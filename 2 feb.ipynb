{
 "cells": [
  {
   "cell_type": "markdown",
   "id": "baecae61-d6f0-4880-b5b3-db8749840dd0",
   "metadata": {},
   "source": [
    "Q.1 solution"
   ]
  },
  {
   "cell_type": "raw",
   "id": "c55346ef-789b-4eba-ac24-f0c221033a12",
   "metadata": {},
   "source": [
    "For loop is used to iterate over sequence like list,tuple,set or any value in the variable to execute block of code for each item in the sequence."
   ]
  },
  {
   "cell_type": "code",
   "execution_count": 4,
   "id": "d4b78863-9d74-431f-857d-8aedcd0549bb",
   "metadata": {},
   "outputs": [
    {
     "name": "stdout",
     "output_type": "stream",
     "text": [
      "1\n",
      "2\n",
      "3\n",
      "4\n",
      "sanket\n",
      "34.2\n"
     ]
    }
   ],
   "source": [
    "s = [1,2,3,4,\"sanket\",34.2]\n",
    "for i in s:\n",
    "    print(i)"
   ]
  },
  {
   "cell_type": "raw",
   "id": "7cad9c8c-ad8a-462f-9658-11e8d1f7ec06",
   "metadata": {},
   "source": [
    "While loop is used for execute the repeated the block of code till a certain condition will met."
   ]
  },
  {
   "cell_type": "code",
   "execution_count": 6,
   "id": "b4649405-fa6f-4d82-82f0-f4ac2c0ae0b1",
   "metadata": {},
   "outputs": [
    {
     "name": "stdout",
     "output_type": "stream",
     "text": [
      "0\n",
      "1\n",
      "2\n",
      "3\n",
      "4\n",
      "5\n",
      "6\n",
      "7\n",
      "8\n",
      "9\n"
     ]
    }
   ],
   "source": [
    "i = 0\n",
    "while i<10:\n",
    "    print(i)\n",
    "    i = i+1"
   ]
  },
  {
   "cell_type": "markdown",
   "id": "6999c2dd-f78a-4d84-8ab0-d034eb8b6ccb",
   "metadata": {},
   "source": [
    "Q.2"
   ]
  },
  {
   "cell_type": "code",
   "execution_count": 9,
   "id": "a7c1936b-b603-470d-b9e1-49d3dc89ddc2",
   "metadata": {},
   "outputs": [
    {
     "data": {
      "text/plain": [
       "55"
      ]
     },
     "execution_count": 9,
     "metadata": {},
     "output_type": "execute_result"
    }
   ],
   "source": [
    "#sum using for loop\n",
    "sum = 0\n",
    "for i in range(11):\n",
    "    sum = sum + i\n",
    "sum"
   ]
  },
  {
   "cell_type": "code",
   "execution_count": 10,
   "id": "ed5c80ee-8e10-4028-b85b-bfea7707d17f",
   "metadata": {},
   "outputs": [
    {
     "data": {
      "text/plain": [
       "3628800"
      ]
     },
     "execution_count": 10,
     "metadata": {},
     "output_type": "execute_result"
    }
   ],
   "source": [
    "# product using for loop\n",
    "product = 1\n",
    "for i in range(1,11):\n",
    "    product = product*i\n",
    "product"
   ]
  },
  {
   "cell_type": "code",
   "execution_count": 11,
   "id": "aacf9f4d-cb67-447b-b80c-e15a7a57f8b8",
   "metadata": {},
   "outputs": [
    {
     "data": {
      "text/plain": [
       "55"
      ]
     },
     "execution_count": 11,
     "metadata": {},
     "output_type": "execute_result"
    }
   ],
   "source": [
    "# sum using while loop\n",
    "i = 1\n",
    "sum = 0\n",
    "while i<=10:\n",
    "    sum = sum +i\n",
    "    i = i+1\n",
    "sum"
   ]
  },
  {
   "cell_type": "code",
   "execution_count": 12,
   "id": "266e58cc-e448-4e5b-a855-e322e4e875d1",
   "metadata": {},
   "outputs": [
    {
     "data": {
      "text/plain": [
       "3628800"
      ]
     },
     "execution_count": 12,
     "metadata": {},
     "output_type": "execute_result"
    }
   ],
   "source": [
    "#product using while loop\n",
    "i = 1\n",
    "product = 1\n",
    "while i<=10:\n",
    "    product *=i\n",
    "    i +=1\n",
    "product"
   ]
  },
  {
   "cell_type": "markdown",
   "id": "b6966878-f0f6-49f8-8c88-e94d11242907",
   "metadata": {},
   "source": [
    "Q.3"
   ]
  },
  {
   "cell_type": "code",
   "execution_count": 16,
   "id": "e10e55b7-ed31-48d9-b3a6-275a9a718be8",
   "metadata": {},
   "outputs": [
    {
     "name": "stdin",
     "output_type": "stream",
     "text": [
      "enter the month unit  301\n"
     ]
    },
    {
     "name": "stdout",
     "output_type": "stream",
     "text": [
      "total rupees is 6020\n"
     ]
    }
   ],
   "source": [
    "unit = int(input(\"enter the month unit \"))\n",
    "if unit <=100:\n",
    "     print(\"total rupees is \", 4.5*unit)\n",
    "elif unit <=200:\n",
    "    print(\"total rupees is\", 6*unit)\n",
    "elif unit <=300:\n",
    "    print(\"total rupees is\", 10*unit)\n",
    "elif unit >300:\n",
    "    print(\"total rupees is\",20*unit)"
   ]
  },
  {
   "cell_type": "markdown",
   "id": "2319bb19-d565-4354-9c4a-082927eaead2",
   "metadata": {},
   "source": [
    "Q.4"
   ]
  },
  {
   "cell_type": "code",
   "execution_count": 26,
   "id": "3a12ec8e-bb7e-4715-b59f-3893699261e0",
   "metadata": {},
   "outputs": [
    {
     "data": {
      "text/plain": [
       "[1000, 8000, 27000, 64000, 125000, 216000, 343000, 512000, 729000, 1000000]"
      ]
     },
     "execution_count": 26,
     "metadata": {},
     "output_type": "execute_result"
    }
   ],
   "source": [
    "#using for loop\n",
    "l = []\n",
    "for i in range(1,101):\n",
    "    i = i**3\n",
    "    if i%4 ==0 and i%5 == 0 :\n",
    "        l.append(i)\n",
    "l"
   ]
  },
  {
   "cell_type": "code",
   "execution_count": 1,
   "id": "7d8febbc-ad51-464e-9f8f-c67caba93158",
   "metadata": {},
   "outputs": [
    {
     "data": {
      "text/plain": [
       "[]"
      ]
     },
     "execution_count": 1,
     "metadata": {},
     "output_type": "execute_result"
    }
   ],
   "source": [
    "#using while loop\n",
    "l = []\n",
    "i = 1\n",
    "while i<=100:\n",
    "    i = i**3\n",
    "    if i%4 == 0 and i%5 ==0:\n",
    "        l.append(i)\n",
    "    i = i/3 +1\n",
    "l"
   ]
  },
  {
   "cell_type": "markdown",
   "id": "6e83b6da-508d-447b-9e60-aaa91231f062",
   "metadata": {},
   "source": [
    "Q.5"
   ]
  },
  {
   "cell_type": "code",
   "execution_count": 8,
   "id": "72165a89-6c87-4492-8f88-bc4e7715b1d3",
   "metadata": {},
   "outputs": [
    {
     "data": {
      "text/plain": [
       "'i want to become data scientist'"
      ]
     },
     "execution_count": 8,
     "metadata": {},
     "output_type": "execute_result"
    }
   ],
   "source": [
    "s = \"I want to become Data Scientist\"\n",
    "s.lower()\n"
   ]
  },
  {
   "cell_type": "code",
   "execution_count": 9,
   "id": "c17413a6-97ae-428f-b11f-3b66054bc569",
   "metadata": {},
   "outputs": [
    {
     "data": {
      "text/plain": [
       "10"
      ]
     },
     "execution_count": 9,
     "metadata": {},
     "output_type": "execute_result"
    }
   ],
   "source": [
    "vowel = ['a','e','i','o','u']\n",
    "count = 0\n",
    "for i in s:\n",
    "    if i in vowel:\n",
    "        count = count +1\n",
    "count"
   ]
  },
  {
   "cell_type": "code",
   "execution_count": null,
   "id": "331119d1-e257-406b-9be9-2590f1e837a5",
   "metadata": {},
   "outputs": [],
   "source": []
  }
 ],
 "metadata": {
  "kernelspec": {
   "display_name": "Python 3 (ipykernel)",
   "language": "python",
   "name": "python3"
  },
  "language_info": {
   "codemirror_mode": {
    "name": "ipython",
    "version": 3
   },
   "file_extension": ".py",
   "mimetype": "text/x-python",
   "name": "python",
   "nbconvert_exporter": "python",
   "pygments_lexer": "ipython3",
   "version": "3.10.8"
  }
 },
 "nbformat": 4,
 "nbformat_minor": 5
}
